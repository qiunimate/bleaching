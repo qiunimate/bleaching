{
 "cells": [
  {
   "cell_type": "markdown",
   "metadata": {},
   "source": [
    "# 1. clean dataset"
   ]
  },
  {
   "cell_type": "code",
   "execution_count": 35,
   "metadata": {},
   "outputs": [],
   "source": [
    "import pandas as pd\n",
    "from tqdm import tqdm\n",
    "from sklearn.model_selection import train_test_split"
   ]
  },
  {
   "cell_type": "code",
   "execution_count": 36,
   "metadata": {},
   "outputs": [
    {
     "name": "stdout",
     "output_type": "stream",
     "text": [
      "(27936, 6)\n",
      "(1164, 2)\n",
      "(1463, 2)\n"
     ]
    }
   ],
   "source": [
    "# read csv files\n",
    "df_input1 = pd.read_csv('input1.csv', sep=';')\n",
    "df_input2 = pd.read_csv('input2.csv', sep=';')\n",
    "df_target = pd.read_csv('target.csv', sep=';')\n",
    "\n",
    "print(df_input1.shape) #(27936, 6)\n",
    "print(df_input2.shape) #(1164, 2)\n",
    "print(df_target.shape) #(1463, 2)"
   ]
  },
  {
   "cell_type": "code",
   "execution_count": 37,
   "metadata": {},
   "outputs": [
    {
     "name": "stdout",
     "output_type": "stream",
     "text": [
      "(27936, 6)\n",
      "(1164, 2)\n",
      "(1175, 2)\n"
     ]
    }
   ],
   "source": [
    "# the first column is the time stamp\n",
    "df_input1['time_stamp'] = pd.to_datetime(df_input1[\"Unnamed: 0\"], format='%d.%m.%Y %H:%M')\n",
    "df_input2['time_stamp'] = pd.to_datetime(df_input2[\"Unnamed: 0\"], format='%d.%m.%Y %H:%M')\n",
    "df_target['time_stamp'] = pd.to_datetime(df_target[\"Unnamed: 0\"], format='%d.%m.%Y %H:%M')\n",
    "df_input1 = df_input1.drop(columns=[\"Unnamed: 0\"])\n",
    "df_input2 = df_input2.drop(columns=[\"Unnamed: 0\"])\n",
    "df_target = df_target.drop(columns=[\"Unnamed: 0\"])\n",
    "\n",
    "# keep target data with date upto 2020-12-07 (as an output of data from input1 and input2)\n",
    "df_target = df_target[df_target['time_stamp'] < '2020-12-08']\n",
    "\n",
    "print(df_input1.shape) # (27936, 6)\n",
    "print(df_input2.shape) # (1164, 2)\n",
    "print(df_target.shape) # (1163, 2)"
   ]
  },
  {
   "cell_type": "code",
   "execution_count": 38,
   "metadata": {},
   "outputs": [
    {
     "name": "stdout",
     "output_type": "stream",
     "text": [
      "DT_DEMO_InletPressure    0\n",
      "DT_DEMO_Temperature      0\n",
      "DT_DEMO_PH               0\n",
      "DT_DEMO_Peroxide         0\n",
      "DT_DEMO_Soda             0\n",
      "time_stamp               0\n",
      "dtype: int64\n",
      "DT_DEMO_Inlet_Brightness    0\n",
      "time_stamp                  0\n",
      "dtype: int64\n",
      "DT_DEMO_Target_Brightness    0\n",
      "time_stamp                   0\n",
      "dtype: int64\n"
     ]
    }
   ],
   "source": [
    "# check nan values\n",
    "print(df_input1.isnull().sum())\n",
    "print(df_input2.isnull().sum())\n",
    "print(df_target.isnull().sum())"
   ]
  },
  {
   "cell_type": "markdown",
   "metadata": {},
   "source": [
    "# 2. construct df to train"
   ]
  },
  {
   "cell_type": "code",
   "execution_count": 39,
   "metadata": {},
   "outputs": [],
   "source": [
    "#in input1, calculate the mean and std of the values every 2 hours, for example, the mean of the values from 00:00 to 02:00 should be the value of 00:00\n",
    "df_input1_mean = df_input1.groupby(pd.Grouper(key='time_stamp', freq='2H')).mean()\n",
    "df_input1_std = df_input1.groupby(pd.Grouper(key='time_stamp', freq='2H')).std()\n",
    "\n",
    "#rename the columns, keep time_stamp, and all the others should be add \"_mean\" or \"_std\n",
    "df_input1_mean.columns = ['DT_DEMO_InletPressure_mean', 'DT_DEMO_Temperature_mean', 'DT_DEMO_PH_mean', 'DT_DEMO_Peroxide_mean', 'DT_DEMO_Soda_mean']\n",
    "df_input1_std.columns = ['DT_DEMO_InletPressure_std', 'DT_DEMO_Temperature_std', 'DT_DEMO_PH_std', 'DT_DEMO_Peroxide_std', 'DT_DEMO_Soda_std']\n",
    "\n",
    "df_input1 = pd.merge(df_input1_mean, df_input1_std, on='time_stamp', how='left')\n",
    "df_input = pd.merge(df_input1, df_input2, on='time_stamp', how='left')\n"
   ]
  },
  {
   "cell_type": "code",
   "execution_count": 40,
   "metadata": {},
   "outputs": [],
   "source": [
    "# delay is an list of datetime objects, either 1h45, 3h45 or 5h45\n",
    "propogation_delays = [   \n",
    "    '01:45:00', \n",
    "    '03:45:00',\n",
    "    '05:45:00',\n",
    "]\n"
   ]
  },
  {
   "cell_type": "code",
   "execution_count": 41,
   "metadata": {},
   "outputs": [],
   "source": [
    "# define a function if the nth row of a dataframe has the same date and time as the input, return n\n",
    "def find_delay_index(time_stamp, df, on_col=\"time_stamp\", return_col=\"DT_DEMO_Target_Brightness\", delay=None):\n",
    "    my_time = pd.to_datetime(\"2020-09-01 03:45:00\", format='%Y-%m-%d %H:%M:%S')\n",
    "    if delay is None:\n",
    "        delay = '00:00:00'\n",
    "    delay = pd.Timedelta(delay)\n",
    "    time_stamp = time_stamp + delay\n",
    "    if time_stamp == my_time:\n",
    "        a = 1\n",
    "\n",
    "    for i in range(len(df)):\n",
    "        # print(\"=====================================\")\n",
    "        # print(df[on_col][i].date(),df[on_col][i].time())\n",
    "        # print(time_stamp.date(),time_stamp.time())\n",
    "        if df[on_col][i] == time_stamp:\n",
    "            return df[return_col][i]\n",
    "    return -1\n",
    "\n",
    "def get_input_df(delay,df_input,df_target):\n",
    "    df_input['target'] = [find_delay_index(df_input['time_stamp'][i], df_target, delay=delay) for i in range(len(df_input))]\n",
    "    df_input = df_input[df_input[\"target\"]!=-1]\n",
    "    return df_input"
   ]
  },
  {
   "cell_type": "markdown",
   "metadata": {},
   "source": [
    "# train a machine learning network"
   ]
  },
  {
   "cell_type": "code",
   "execution_count": 42,
   "metadata": {},
   "outputs": [],
   "source": [
    "# train test split with random state 42\n",
    "def split_dataset(df_input):\n",
    "    df_train, df_test = train_test_split(df_input, test_size=0.2, random_state=42)\n",
    "    x_train = df_train.drop(columns=['target'])\n",
    "    y_train = df_train['target']\n",
    "    x_test = df_test.drop(columns=['target'])\n",
    "    y_test = df_test['target']\n",
    "    return x_train, y_train, x_test, y_test\n"
   ]
  },
  {
   "cell_type": "code",
   "execution_count": 43,
   "metadata": {},
   "outputs": [],
   "source": [
    "# train a random forest regressor as a baseline model\n",
    "from sklearn.ensemble import RandomForestRegressor\n",
    "from sklearn.metrics import mean_squared_error\n",
    "from sklearn.metrics import mean_absolute_error\n",
    "from sklearn.metrics import r2_score\n",
    "from sklearn.model_selection import GridSearchCV\n",
    "\n",
    "# define a function to calculate the metrics\n",
    "def metrics(y_true, y_pred):\n",
    "    mse = mean_squared_error(y_true, y_pred)\n",
    "    mae = mean_absolute_error(y_true, y_pred)\n",
    "    r2 = r2_score(y_true, y_pred)\n",
    "    return mse, mae, r2\n",
    "\n",
    "# define a function to train a random forest regressor\n",
    "def train_rf(x_train, y_train, x_test, y_test, n_estimators=100, max_depth=None, min_samples_split=2, min_samples_leaf=1, random_state=42):\n",
    "    rf = RandomForestRegressor(n_estimators=n_estimators, max_depth=max_depth, min_samples_split=min_samples_split, min_samples_leaf=min_samples_leaf, random_state=random_state)\n",
    "    rf.fit(x_train, y_train)\n",
    "    y_pred_train = rf.predict(x_train)\n",
    "    y_pred_test = rf.predict(x_test)\n",
    "    mse_train, mae_train, r2_train = metrics(y_train, y_pred_train)\n",
    "    mse_test, mae_test, r2_test = metrics(y_test, y_pred_test)\n",
    "    return rf, mse_train, mae_train, r2_train, mse_test, mae_test, r2_test"
   ]
  },
  {
   "cell_type": "code",
   "execution_count": 46,
   "metadata": {},
   "outputs": [
    {
     "name": "stderr",
     "output_type": "stream",
     "text": [
      "C:\\Users\\taker\\AppData\\Local\\Temp\\ipykernel_6604\\645527446.py:7: SettingWithCopyWarning: \n",
      "A value is trying to be set on a copy of a slice from a DataFrame\n",
      "\n",
      "See the caveats in the documentation: https://pandas.pydata.org/pandas-docs/stable/user_guide/indexing.html#returning-a-view-versus-a-copy\n",
      "  training_dataset.drop(columns=['time_stamp'], inplace=True)\n"
     ]
    },
    {
     "name": "stdout",
     "output_type": "stream",
     "text": [
      "delay:  01:45:00\n",
      "mse_train:  0.4286918727834552\n",
      "mae_train:  0.5208597924392476\n",
      "r2_train:  0.917614525761319\n",
      "mse_test:  2.7374677947155823\n",
      "mae_test:  1.3426082716098686\n",
      "r2_test:  0.3551244957615125\n",
      "=====================================================\n",
      "delay:  03:45:00\n",
      "mse_train:  0.025731905488296007\n",
      "mae_train:  0.1274363442337257\n",
      "r2_train:  0.995053007811645\n",
      "mse_test:  0.1789510457490091\n",
      "mae_test:  0.330651994362659\n",
      "r2_test:  0.9581036251216997\n",
      "=====================================================\n",
      "delay:  05:45:00\n",
      "mse_train:  0.21508656381966168\n",
      "mae_train:  0.36759461496670304\n",
      "r2_train:  0.9579664678048324\n",
      "mse_test:  1.590846319490311\n",
      "mae_test:  0.9737105986725313\n",
      "r2_test:  0.655251982077702\n",
      "=====================================================\n"
     ]
    }
   ],
   "source": [
    "# first test which delay time is the best\n",
    "train_results = []\n",
    "test_results = []\n",
    "\n",
    "for delay in propogation_delays:\n",
    "    training_dataset = get_input_df(delay, df_input, df_target)\n",
    "    training_dataset.drop(columns=['time_stamp'], inplace=True)\n",
    "    x_train, y_train, x_test, y_test = split_dataset(training_dataset)\n",
    "    rf, mse_train, mae_train, r2_train, mse_test, mae_test, r2_test = train_rf(x_train, y_train, x_test, y_test)\n",
    "    train_results.append([delay, mse_train, mae_train, r2_train])\n",
    "    test_results.append([delay, mse_test, mae_test, r2_test])\n",
    "    print(\"delay: \", delay)\n",
    "    print(\"mse_train: \", mse_train)\n",
    "    print(\"mae_train: \", mae_train)\n",
    "    print(\"r2_train: \", r2_train)\n",
    "    print(\"mse_test: \", mse_test)\n",
    "    print(\"mae_test: \", mae_test)\n",
    "    print(\"r2_test: \", r2_test)\n",
    "    print(\"=====================================================\")\n",
    "\n",
    "    "
   ]
  },
  {
   "cell_type": "code",
   "execution_count": 65,
   "metadata": {},
   "outputs": [
    {
     "data": {
      "image/png": "[encoded data removed]",
      "text/plain": [
       "<Figure size 1000x600 with 1 Axes>"
      ]
     },
     "metadata": {},
     "output_type": "display_data"
    }
   ],
   "source": [
    "import matplotlib.pyplot as plt\n",
    "import numpy as np\n",
    "\n",
    "# Unpack the results into separate lists\n",
    "delays, training_mses, training_maes, training_r2s = zip(*train_results)\n",
    "delays, test_mses, test_maes, test_r2s = zip(*test_results)\n",
    "training_mses = [float(i) for i in training_mses]\n",
    "training_maes = [float(i) for i in training_maes]\n",
    "training_r2s = [float(i) for i in training_r2s]\n",
    "test_mses = [float(i) for i in test_mses]\n",
    "test_maes = [float(i) for i in test_maes]\n",
    "test_r2s = [float(i) for i in test_r2s]\n",
    "\n",
    "# Plot the data\n",
    "plt.figure(figsize=(10, 6))\n",
    "plt.plot(delays, training_mses, marker='o', label='Training_MSE', color='red')\n",
    "plt.plot(delays, training_maes, marker='o', label='Training_MAE', color='green')\n",
    "plt.plot(delays, training_r2s, marker='o', label='Training_R2', color='blue')\n",
    "plt.plot(delays, test_mses, marker='x', label='test_MSE', color='red')\n",
    "plt.plot(delays, test_maes, marker='x', label='test_MAE', color='green')\n",
    "plt.plot(delays, test_r2s, marker='x', label='test_R2', color='blue')\n",
    "\n",
    "# Add labels and legend\n",
    "plt.title('Training Metrics with Different Delays')\n",
    "plt.xlabel('Delay')\n",
    "plt.ylabel('Metric Value')\n",
    "plt.legend()\n",
    "\n",
    "# Show the plot\n",
    "plt.grid(True)\n",
    "plt.show()"
   ]
  },
  {
   "cell_type": "markdown",
   "metadata": {},
   "source": [
    " we can firstly say that a delay of 3:45:00 is the best choice among these 3 possibilities"
   ]
  },
  {
   "cell_type": "code",
   "execution_count": 66,
   "metadata": {},
   "outputs": [
    {
     "name": "stdout",
     "output_type": "stream",
     "text": [
      "Fitting 3 folds for each of 243 candidates, totalling 729 fits\n"
     ]
    },
    {
     "name": "stderr",
     "output_type": "stream",
     "text": [
      "d:\\coding\\bleaching\\.conda\\lib\\site-packages\\sklearn\\model_selection\\_validation.py:425: FitFailedWarning: \n",
      "243 fits failed out of a total of 729.\n",
      "The score on these train-test partitions for these parameters will be set to nan.\n",
      "If these failures are not expected, you can try to debug them by setting error_score='raise'.\n",
      "\n",
      "Below are more details about the failures:\n",
      "--------------------------------------------------------------------------------\n",
      "149 fits failed with the following error:\n",
      "Traceback (most recent call last):\n",
      "  File \"d:\\coding\\bleaching\\.conda\\lib\\site-packages\\sklearn\\model_selection\\_validation.py\", line 729, in _fit_and_score\n",
      "    estimator.fit(X_train, y_train, **fit_params)\n",
      "  File \"d:\\coding\\bleaching\\.conda\\lib\\site-packages\\sklearn\\base.py\", line 1145, in wrapper\n",
      "    estimator._validate_params()\n",
      "  File \"d:\\coding\\bleaching\\.conda\\lib\\site-packages\\sklearn\\base.py\", line 638, in _validate_params\n",
      "    validate_parameter_constraints(\n",
      "  File \"d:\\coding\\bleaching\\.conda\\lib\\site-packages\\sklearn\\utils\\_param_validation.py\", line 96, in validate_parameter_constraints\n",
      "    raise InvalidParameterError(\n",
      "sklearn.utils._param_validation.InvalidParameterError: The 'max_features' parameter of RandomForestRegressor must be an int in the range [1, inf), a float in the range (0.0, 1.0], a str among {'log2', 'sqrt'} or None. Got 'auto' instead.\n",
      "\n",
      "--------------------------------------------------------------------------------\n",
      "94 fits failed with the following error:\n",
      "Traceback (most recent call last):\n",
      "  File \"d:\\coding\\bleaching\\.conda\\lib\\site-packages\\sklearn\\model_selection\\_validation.py\", line 729, in _fit_and_score\n",
      "    estimator.fit(X_train, y_train, **fit_params)\n",
      "  File \"d:\\coding\\bleaching\\.conda\\lib\\site-packages\\sklearn\\base.py\", line 1145, in wrapper\n",
      "    estimator._validate_params()\n",
      "  File \"d:\\coding\\bleaching\\.conda\\lib\\site-packages\\sklearn\\base.py\", line 638, in _validate_params\n",
      "    validate_parameter_constraints(\n",
      "  File \"d:\\coding\\bleaching\\.conda\\lib\\site-packages\\sklearn\\utils\\_param_validation.py\", line 96, in validate_parameter_constraints\n",
      "    raise InvalidParameterError(\n",
      "sklearn.utils._param_validation.InvalidParameterError: The 'max_features' parameter of RandomForestRegressor must be an int in the range [1, inf), a float in the range (0.0, 1.0], a str among {'sqrt', 'log2'} or None. Got 'auto' instead.\n",
      "\n",
      "  warnings.warn(some_fits_failed_message, FitFailedWarning)\n",
      "d:\\coding\\bleaching\\.conda\\lib\\site-packages\\sklearn\\model_selection\\_search.py:979: UserWarning: One or more of the test scores are non-finite: [       nan        nan        nan        nan        nan        nan\n",
      "        nan        nan        nan        nan        nan        nan\n",
      "        nan        nan        nan        nan        nan        nan\n",
      "        nan        nan        nan        nan        nan        nan\n",
      "        nan        nan        nan 0.66379731 0.66578008 0.66726573\n",
      " 0.66466159 0.66772404 0.66651636 0.66182493 0.66289164 0.66480539\n",
      " 0.66914541 0.67016408 0.66898522 0.66965722 0.66999449 0.66959953\n",
      " 0.66440683 0.66624246 0.66326891 0.66324748 0.6621802  0.66123972\n",
      " 0.66324748 0.6621802  0.66123972 0.66047197 0.66025264 0.65965583\n",
      " 0.66379731 0.66578008 0.66726573 0.66466159 0.66772404 0.66651636\n",
      " 0.66182493 0.66289164 0.66480539 0.66914541 0.67016408 0.66898522\n",
      " 0.66965722 0.66999449 0.66959953 0.66440683 0.66624246 0.66326891\n",
      " 0.66324748 0.6621802  0.66123972 0.66324748 0.6621802  0.66123972\n",
      " 0.66047197 0.66025264 0.65965583        nan        nan        nan\n",
      "        nan        nan        nan        nan        nan        nan\n",
      "        nan        nan        nan        nan        nan        nan\n",
      "        nan        nan        nan        nan        nan        nan\n",
      "        nan        nan        nan        nan        nan        nan\n",
      " 0.66513648 0.66485307 0.66471784 0.66653427 0.66551659 0.66576187\n",
      " 0.6639029  0.6635573  0.66373683 0.66724293 0.66539277 0.6643564\n",
      " 0.67134377 0.6699982  0.66879153 0.66252146 0.66398368 0.66294724\n",
      " 0.66799384 0.66397324 0.66148465 0.66799384 0.66397324 0.66148465\n",
      " 0.66036288 0.66127891 0.65898441 0.66513648 0.66485307 0.66471784\n",
      " 0.66653427 0.66551659 0.66576187 0.6639029  0.6635573  0.66373683\n",
      " 0.66724293 0.66539277 0.6643564  0.67134377 0.6699982  0.66879153\n",
      " 0.66252146 0.66398368 0.66294724 0.66799384 0.66397324 0.66148465\n",
      " 0.66799384 0.66397324 0.66148465 0.66036288 0.66127891 0.65898441\n",
      "        nan        nan        nan        nan        nan        nan\n",
      "        nan        nan        nan        nan        nan        nan\n",
      "        nan        nan        nan        nan        nan        nan\n",
      "        nan        nan        nan        nan        nan        nan\n",
      "        nan        nan        nan 0.66171708 0.66621756 0.66692439\n",
      " 0.66404876 0.66747987 0.66647937 0.66189297 0.66296986 0.66487002\n",
      " 0.6689068  0.66998987 0.66880337 0.66946743 0.66977619 0.66958927\n",
      " 0.66452467 0.66630382 0.66330908 0.66324748 0.6621802  0.66123972\n",
      " 0.66324748 0.6621802  0.66123972 0.66047197 0.66025264 0.65965583\n",
      " 0.66171708 0.66621756 0.66692439 0.66404876 0.66747987 0.66647937\n",
      " 0.66189297 0.66296986 0.66487002 0.6689068  0.66998987 0.66880337\n",
      " 0.66946743 0.66977619 0.66958927 0.66452467 0.66630382 0.66330908\n",
      " 0.66324748 0.6621802  0.66123972 0.66324748 0.6621802  0.66123972\n",
      " 0.66047197 0.66025264 0.65965583]\n",
      "  warnings.warn(\n"
     ]
    },
    {
     "name": "stdout",
     "output_type": "stream",
     "text": [
      "{'max_depth': 10, 'max_features': 'sqrt', 'min_samples_leaf': 2, 'min_samples_split': 5, 'n_estimators': 100}\n",
      "0.6713437661854602\n",
      "mse_train:  0.5734665962835136\n",
      "mae_train:  0.5988514703037328\n",
      "r2_train:  0.8879296493018186\n",
      "mse_test:  1.6241159631136466\n",
      "mae_test:  0.9756526655252171\n",
      "r2_test:  0.6480422072832386\n"
     ]
    }
   ],
   "source": [
    "# train a random forest regressor with grid search\n",
    "param_grid = {\n",
    "    'n_estimators': [100, 200, 300],\n",
    "    'max_depth': [None, 10, 20],\n",
    "    'min_samples_split': [2, 5, 10],\n",
    "    'min_samples_leaf': [1, 2, 4],\n",
    "    'max_features': ['sqrt', 'log2']\n",
    "}\n",
    "\n",
    "rf = RandomForestRegressor(random_state=42)\n",
    "grid_search = GridSearchCV(estimator=rf, param_grid=param_grid, cv=3, n_jobs=-1, verbose=2)\n",
    "grid_search.fit(x_train, y_train)\n",
    "print(grid_search.best_params_)\n",
    "print(grid_search.best_score_)\n",
    "rf = grid_search.best_estimator_\n",
    "y_pred_train = rf.predict(x_train)\n",
    "y_pred_test = rf.predict(x_test)\n",
    "mse_train, mae_train, r2_train = metrics(y_train, y_pred_train)\n",
    "mse_test, mae_test, r2_test = metrics(y_test, y_pred_test)\n",
    "print(\"mse_train: \", mse_train)\n",
    "print(\"mae_train: \", mae_train)\n",
    "print(\"r2_train: \", r2_train)\n",
    "print(\"mse_test: \", mse_test)\n",
    "print(\"mae_test: \", mae_test)\n",
    "print(\"r2_test: \", r2_test)\n",
    "\n",
    "\n"
   ]
  },
  {
   "cell_type": "code",
   "execution_count": null,
   "metadata": {},
   "outputs": [],
   "source": [
    "\n",
    "# save the model\n",
    "import pickle\n",
    "filename = 'rf_model.sav'\n",
    "pickle.dump(rf, open(filename, 'wb'))"
   ]
  }
 ],
 "metadata": {
  "kernelspec": {
   "display_name": "base",
   "language": "python",
   "name": "python3"
  },
  "language_info": {
   "codemirror_mode": {
    "name": "ipython",
    "version": 3
   },
   "file_extension": ".py",
   "mimetype": "text/x-python",
   "name": "python",
   "nbconvert_exporter": "python",
   "pygments_lexer": "ipython3",
   "version": "3.8.18"
  }
 },
 "nbformat": 4,
 "nbformat_minor": 2
}
